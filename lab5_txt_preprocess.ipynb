{
 "cells": [
  {
   "cell_type": "code",
   "execution_count": 1,
   "id": "c94dcd66-b848-456e-82c9-a1e1039df040",
   "metadata": {},
   "outputs": [],
   "source": [
    "import numpy as np\n",
    "from PIL import Image\n",
    "import pandas as pd\n",
    "from collections import Counter\n",
    "from sklearn.model_selection import train_test_split\n",
    "import torch\n",
    "import torch.nn as nn\n",
    "import torch.optim as optim\n",
    "from transformers import BertTokenizer, BertConfig, BertModel\n",
    "import torchvision\n",
    "import torchvision.transforms as transforms\n",
    "import matplotlib.pyplot as plt"
   ]
  },
  {
   "cell_type": "code",
   "execution_count": 13,
   "id": "89390d8c-f0ed-4704-b6d1-9707dea3196a",
   "metadata": {},
   "outputs": [],
   "source": [
    "images = []\n",
    "descriptions = []\n",
    "emotions = []\n",
    "emotion_dic = {\"positive\":2, \"negative\":1, \"neutral\":0}\n",
    "e_dataframe = pd.read_csv(\"./data/train.txt\")\n",
    "pre_trained = 'bert-base-uncased'\n",
    "token = BertTokenizer.from_pretrained(pre_trained)\n",
    "\n",
    "for i in range(e_dataframe.shape[0]):\n",
    "    try:\n",
    "        idx = e_dataframe.iloc[i]['guid']\n",
    "        emotion = e_dataframe.iloc[i]['tag']\n",
    "        img = Image.open('./data/data/' + str(idx) + '.jpg')\n",
    "        img = img.resize((224,224),Image.ANTIALIAS)\n",
    "        image = np.asarray(img, dtype = 'float32')\n",
    "        with open('./data/data/' + str(idx) + '.txt', encoding='gbk') as fp:\n",
    "            description = fp.read()\n",
    "        images.append(image.transpose(2,0,1))\n",
    "        descriptions.append(description)\n",
    "        emotions.append(emotion_dic[emotion])\n",
    "    except:\n",
    "        continue"
   ]
  },
  {
   "cell_type": "markdown",
   "id": "4347ab88-7646-4455-9b16-cee67e07652c",
   "metadata": {},
   "source": [
    "### 尝试对文本做预处理"
   ]
  },
  {
   "cell_type": "code",
   "execution_count": 14,
   "id": "78b061e4-a453-4c36-a9ea-3ec269824d0b",
   "metadata": {},
   "outputs": [
    {
     "data": {
      "text/plain": [
       "['RT @AmitSwami77: The conspirators have an evil eye & are now set to physically attack Asaram Bapu Ji! #WeDemandSafety4Bapuji http://t.co/N8…\\n',\n",
       " 'Waxwing trills, Chickadees calling \"here sweetie\", enthusiastic athletes, blue sky & snow at #ualbertafarm #UAlberta \\n',\n",
       " '@NYSE is looking a little despondent today...??? http://t.co/o5xiKyJgT7\\n',\n",
       " 'FERVENT | S,M,L | 140k free PLASTIC CLIP, keychain rubber AND sticker 085725737197 / 28ae36f3 \\n',\n",
       " 'Nice day chilling in the park yesterday relieved my mood for a short while. #friends #summer #outside #depression \\n']"
      ]
     },
     "execution_count": 14,
     "metadata": {},
     "output_type": "execute_result"
    }
   ],
   "source": [
    "descriptions[:5]"
   ]
  },
  {
   "cell_type": "code",
   "execution_count": 15,
   "id": "ff3a0a2d-1813-48ac-b4eb-7747ac306578",
   "metadata": {},
   "outputs": [],
   "source": [
    "for i in range(len(descriptions)):\n",
    "    description = descriptions[i]\n",
    "    words = description.replace(\"#\", \"\").split(\" \")\n",
    "    words_filtered = []\n",
    "    for word in words:\n",
    "        if len(word)<1:\n",
    "            continue\n",
    "        elif word[:4]=='http' or word[0]=='@' or word=='RT':\n",
    "            continue\n",
    "        else:\n",
    "            words_filtered.append(word)\n",
    "    descriptions[i] = \" \".join(words_filtered)"
   ]
  },
  {
   "cell_type": "code",
   "execution_count": 25,
   "id": "a5dcd122-74ba-4b89-b971-4f04536137b0",
   "metadata": {},
   "outputs": [
    {
     "data": {
      "text/plain": [
       "['The conspirators have an evil eye & are now set to physically attack Asaram Bapu Ji! WeDemandSafety4Bapuji',\n",
       " 'Waxwing trills, Chickadees calling \"here sweetie\", enthusiastic athletes, blue sky & snow at ualbertafarm UAlberta \\n',\n",
       " 'is looking a little despondent today...???',\n",
       " 'FERVENT | S,M,L | 140k free PLASTIC CLIP, keychain rubber AND sticker 085725737197 / 28ae36f3 \\n',\n",
       " 'Nice day chilling in the park yesterday relieved my mood for a short while. friends summer outside depression \\n',\n",
       " 'Ford : F-350 Lariat 6.4L 2008 Lariat Heated Leather Rear Camera 2008 ford f 250 diesel 4 x… \\n',\n",
       " 'Furious 7',\n",
       " 'The flowers look like a dejected King Tritan: \\n',\n",
       " '廃墟 廃線 abandoned 写真撮ってる人と繋がりたい 写真好きな人と繋がりたい \\n',\n",
       " \"UPDATE!Navy discarded ilegal fishing after boarding chinese vessels in Chile's Excl Econ Zone htt… \\n\"]"
      ]
     },
     "execution_count": 25,
     "metadata": {},
     "output_type": "execute_result"
    }
   ],
   "source": [
    "descriptions[:10]"
   ]
  },
  {
   "cell_type": "code",
   "execution_count": 17,
   "id": "68292a03-3e90-41a8-93cd-7dacf857586e",
   "metadata": {},
   "outputs": [],
   "source": [
    "def text2emb(texts):\n",
    "    data = token.batch_encode_plus(batch_text_or_text_pairs = texts, \n",
    "                                   truncation=True, padding='max_length', max_length=32,\n",
    "                                   return_tensors='pt')\n",
    "    input_ids = data['input_ids']\n",
    "    attention_mask = data[\"attention_mask\"]\n",
    "    return input_ids, attention_mask"
   ]
  },
  {
   "cell_type": "code",
   "execution_count": 18,
   "id": "a86164a2-6bed-4752-ac57-697a55ce207d",
   "metadata": {},
   "outputs": [
    {
     "name": "stdout",
     "output_type": "stream",
     "text": [
      "Counter({2: 2387, 1: 1193, 0: 419})\n"
     ]
    }
   ],
   "source": [
    "count = Counter(emotions)\n",
    "print(count)"
   ]
  },
  {
   "cell_type": "code",
   "execution_count": 19,
   "id": "25f040cb-3f0d-4680-9728-684258348359",
   "metadata": {},
   "outputs": [],
   "source": [
    "image_and_txt = [(images[i], descriptions[i]) for i in range(len(images))]\n",
    "x_train, x_test, emotion_train, emotion_test = train_test_split(image_and_txt, emotions, test_size=0.2, random_state=0)\n",
    "image_train, txt_train = [x_train[i][0] for i in range(len(x_train))], [x_train[i][1] for i in range(len(x_train))]\n",
    "image_test, txt_test = [x_test[i][0] for i in range(len(x_test))], [x_test[i][1] for i in range(len(x_test))]"
   ]
  },
  {
   "cell_type": "code",
   "execution_count": 20,
   "id": "a69f1ba3-c68e-462f-b0fa-ff406d09778f",
   "metadata": {},
   "outputs": [],
   "source": [
    "class Lab5Dataset():\n",
    "    def __init__(self, images, descriptions, emotions):\n",
    "        self.images = images\n",
    "        self.input_ids, self.attention_masks = text2emb(descriptions)\n",
    "        self.emotions = emotions\n",
    "\n",
    "    def __getitem__(self, index):\n",
    "        image = self.images[index]\n",
    "        input_id = self.input_ids[index]\n",
    "        attention_mask = self.attention_masks[index]\n",
    "        emotion = self.emotions[index]\n",
    "        return image, input_id, attention_mask, emotion\n",
    "\n",
    "    def __len__(self):\n",
    "        return len(self.images)"
   ]
  },
  {
   "cell_type": "code",
   "execution_count": 21,
   "id": "948e4f2f-012f-4257-95c3-1282a02bf26f",
   "metadata": {},
   "outputs": [],
   "source": [
    "train_dataset = Lab5Dataset(image_train, txt_train, emotion_train)\n",
    "train_dataloader = torch.utils.data.DataLoader(train_dataset, batch_size = 16, shuffle = True)\n",
    "test_dataset = Lab5Dataset(image_test, txt_test, emotion_test)\n",
    "test_dataloader = torch.utils.data.DataLoader(test_dataset, batch_size = 16, shuffle = True)"
   ]
  },
  {
   "cell_type": "code",
   "execution_count": 22,
   "id": "f070a31d-bb9b-4458-8962-e26bff2b2a6f",
   "metadata": {},
   "outputs": [],
   "source": [
    "class Bert(nn.Module):\n",
    "    def __init__(self):\n",
    "        super().__init__()\n",
    "        self.bert = BertModel.from_pretrained('bert-base-uncased')\n",
    "        self.linear1 = nn.Linear(768, 256)\n",
    "        self.linear2 = nn.Linear(256, 3)\n",
    "\n",
    "    def forward(self, input_ids, input_mask):\n",
    "        out = self.bert(input_ids = input_ids, attention_mask = input_mask) \n",
    "        out = out.last_hidden_state[:,0,:]\n",
    "        out.view(out.shape[0], -1)\n",
    "        out = self.linear1(out)\n",
    "        out = self.linear2(out)\n",
    "        return out"
   ]
  },
  {
   "cell_type": "code",
   "execution_count": 23,
   "id": "807fce0e-f607-4637-86c3-46cbc5ac47ad",
   "metadata": {
    "scrolled": true,
    "tags": []
   },
   "outputs": [
    {
     "name": "stderr",
     "output_type": "stream",
     "text": [
      "Some weights of the model checkpoint at bert-base-uncased were not used when initializing BertModel: ['cls.seq_relationship.bias', 'cls.predictions.transform.dense.bias', 'cls.predictions.decoder.weight', 'cls.seq_relationship.weight', 'cls.predictions.transform.LayerNorm.weight', 'cls.predictions.transform.LayerNorm.bias', 'cls.predictions.bias', 'cls.predictions.transform.dense.weight']\n",
      "- This IS expected if you are initializing BertModel from the checkpoint of a model trained on another task or with another architecture (e.g. initializing a BertForSequenceClassification model from a BertForPreTraining model).\n",
      "- This IS NOT expected if you are initializing BertModel from the checkpoint of a model that you expect to be exactly identical (initializing a BertForSequenceClassification model from a BertForSequenceClassification model).\n"
     ]
    },
    {
     "name": "stdout",
     "output_type": "stream",
     "text": [
      "Train Epoch: 0 [50/200 (25%)]\tLoss: 1.000721\n",
      "Train Epoch: 0 [100/200 (50%)]\tLoss: 1.082980\n",
      "Train Epoch: 0 [150/200 (75%)]\tLoss: 0.910942\n",
      "Train Epoch: 0 [200/200 (100%)]\tLoss: 0.791775\n",
      "Train Accuracy: 0.594873\n",
      "Test Accuracy: 0.632500\n",
      "Train Epoch: 1 [50/200 (25%)]\tLoss: 0.774241\n",
      "Train Epoch: 1 [100/200 (50%)]\tLoss: 0.955986\n",
      "Train Epoch: 1 [150/200 (75%)]\tLoss: 0.921791\n",
      "Train Epoch: 1 [200/200 (100%)]\tLoss: 0.933420\n",
      "Train Accuracy: 0.641450\n",
      "Test Accuracy: 0.663750\n",
      "Train Epoch: 2 [50/200 (25%)]\tLoss: 0.901869\n",
      "Train Epoch: 2 [100/200 (50%)]\tLoss: 0.574206\n",
      "Train Epoch: 2 [150/200 (75%)]\tLoss: 0.802193\n",
      "Train Epoch: 2 [200/200 (100%)]\tLoss: 0.582512\n",
      "Train Accuracy: 0.703032\n",
      "Test Accuracy: 0.706250\n",
      "Train Epoch: 3 [50/200 (25%)]\tLoss: 0.773984\n",
      "Train Epoch: 3 [100/200 (50%)]\tLoss: 0.788280\n",
      "Train Epoch: 3 [150/200 (75%)]\tLoss: 0.694514\n",
      "Train Epoch: 3 [200/200 (100%)]\tLoss: 0.812681\n",
      "Train Accuracy: 0.743045\n",
      "Test Accuracy: 0.712500\n",
      "Train Epoch: 4 [50/200 (25%)]\tLoss: 0.517134\n",
      "Train Epoch: 4 [100/200 (50%)]\tLoss: 0.802280\n",
      "Train Epoch: 4 [150/200 (75%)]\tLoss: 0.888017\n",
      "Train Epoch: 4 [200/200 (100%)]\tLoss: 0.488240\n",
      "Train Accuracy: 0.765864\n",
      "Test Accuracy: 0.710000\n",
      "Train Epoch: 5 [50/200 (25%)]\tLoss: 0.517199\n",
      "Train Epoch: 5 [100/200 (50%)]\tLoss: 0.531720\n",
      "Train Epoch: 5 [150/200 (75%)]\tLoss: 0.506695\n",
      "Train Epoch: 5 [200/200 (100%)]\tLoss: 0.482558\n",
      "Train Accuracy: 0.794623\n",
      "Test Accuracy: 0.717500\n",
      "Train Epoch: 6 [50/200 (25%)]\tLoss: 0.540899\n",
      "Train Epoch: 6 [100/200 (50%)]\tLoss: 0.479358\n",
      "Train Epoch: 6 [150/200 (75%)]\tLoss: 0.361531\n",
      "Train Epoch: 6 [200/200 (100%)]\tLoss: 0.637225\n",
      "Train Accuracy: 0.823382\n",
      "Test Accuracy: 0.705000\n",
      "Train Epoch: 7 [50/200 (25%)]\tLoss: 0.647396\n",
      "Train Epoch: 7 [100/200 (50%)]\tLoss: 0.277053\n",
      "Train Epoch: 7 [150/200 (75%)]\tLoss: 0.680224\n",
      "Train Epoch: 7 [200/200 (100%)]\tLoss: 0.258303\n",
      "Train Accuracy: 0.841513\n",
      "Test Accuracy: 0.715000\n",
      "Train Epoch: 8 [50/200 (25%)]\tLoss: 0.325800\n",
      "Train Epoch: 8 [100/200 (50%)]\tLoss: 0.340762\n",
      "Train Epoch: 8 [150/200 (75%)]\tLoss: 0.268323\n",
      "Train Epoch: 8 [200/200 (100%)]\tLoss: 0.551804\n",
      "Train Accuracy: 0.865896\n",
      "Test Accuracy: 0.713750\n",
      "Train Epoch: 9 [50/200 (25%)]\tLoss: 0.238486\n",
      "Train Epoch: 9 [100/200 (50%)]\tLoss: 0.199654\n",
      "Train Epoch: 9 [150/200 (75%)]\tLoss: 0.438220\n",
      "Train Epoch: 9 [200/200 (100%)]\tLoss: 0.276842\n",
      "Train Accuracy: 0.888403\n",
      "Test Accuracy: 0.710000\n",
      "Train Epoch: 10 [50/200 (25%)]\tLoss: 0.302153\n",
      "Train Epoch: 10 [100/200 (50%)]\tLoss: 0.112662\n",
      "Train Epoch: 10 [150/200 (75%)]\tLoss: 0.237381\n",
      "Train Epoch: 10 [200/200 (100%)]\tLoss: 0.551789\n",
      "Train Accuracy: 0.911535\n",
      "Test Accuracy: 0.702500\n",
      "Train Epoch: 11 [50/200 (25%)]\tLoss: 0.197427\n",
      "Train Epoch: 11 [100/200 (50%)]\tLoss: 0.535782\n",
      "Train Epoch: 11 [150/200 (75%)]\tLoss: 0.397995\n",
      "Train Epoch: 11 [200/200 (100%)]\tLoss: 0.280682\n",
      "Train Accuracy: 0.921225\n",
      "Test Accuracy: 0.703750\n",
      "Train Epoch: 12 [50/200 (25%)]\tLoss: 0.122969\n",
      "Train Epoch: 12 [100/200 (50%)]\tLoss: 0.392334\n",
      "Train Epoch: 12 [150/200 (75%)]\tLoss: 0.240436\n",
      "Train Epoch: 12 [200/200 (100%)]\tLoss: 0.175709\n",
      "Train Accuracy: 0.937793\n",
      "Test Accuracy: 0.703750\n",
      "Train Epoch: 13 [50/200 (25%)]\tLoss: 0.149315\n",
      "Train Epoch: 13 [100/200 (50%)]\tLoss: 0.435773\n",
      "Train Epoch: 13 [150/200 (75%)]\tLoss: 0.080395\n",
      "Train Epoch: 13 [200/200 (100%)]\tLoss: 0.359471\n",
      "Train Accuracy: 0.949984\n",
      "Test Accuracy: 0.692500\n",
      "Train Epoch: 14 [50/200 (25%)]\tLoss: 0.154811\n",
      "Train Epoch: 14 [100/200 (50%)]\tLoss: 0.169604\n",
      "Train Epoch: 14 [150/200 (75%)]\tLoss: 0.096410\n",
      "Train Epoch: 14 [200/200 (100%)]\tLoss: 0.204936\n",
      "Train Accuracy: 0.956549\n",
      "Test Accuracy: 0.682500\n"
     ]
    }
   ],
   "source": [
    "device = torch.device(\"cuda:0\" if torch.cuda.is_available() else \"cpu\")\n",
    "model = Bert().to(device)\n",
    "optimizer = optim.AdamW(model.parameters(), lr = 1e-6)\n",
    "Loss = nn.CrossEntropyLoss()\n",
    "train_acc = []\n",
    "test_acc = []\n",
    "for epoch in range(15):\n",
    "    for batch_idx, (_, idx, mask, target) in enumerate(train_dataloader):\n",
    "        idx, mask, target = idx.to(device), mask.to(device), target.to(device)\n",
    "        output = model(idx, mask)\n",
    "        optimizer.zero_grad()\n",
    "        loss = Loss(output, target)\n",
    "        loss.backward()\n",
    "        optimizer.step()\n",
    "        if (batch_idx + 1) % 50 == 0:\n",
    "            print('Train Epoch: {} [{}/{} ({:.0f}%)]\\tLoss: {:.6f}'.format(\n",
    "                epoch, batch_idx+1, len(train_dataloader), 100. * (batch_idx+1) / len(train_dataloader), loss.item()))\n",
    "\n",
    "    correct = 0\n",
    "    for _, idx, mask, target in train_dataloader:\n",
    "        idx, mask, target = idx.to(device), mask.to(device), target.to(device)\n",
    "        output = model(idx, mask)\n",
    "        pred = output.argmax(dim=1)\n",
    "        correct += int(pred.eq(target).sum())\n",
    "    train_acc.append(correct / len(image_train))\n",
    "    print('Train Accuracy: {:.6f}'.format(correct / len(image_train)))\n",
    "\n",
    "    correct = 0\n",
    "    for _, idx, mask, target in test_dataloader:\n",
    "        idx, mask, target = idx.to(device), mask.to(device), target.to(device)\n",
    "        output = model(idx, mask)\n",
    "        pred = output.argmax(dim=1)\n",
    "        correct += int(pred.eq(target).sum())\n",
    "    test_acc.append(correct / len(image_test))\n",
    "    print('Test Accuracy: {:.6f}'.format(correct / len(image_test)))\n",
    "    \n",
    "torch.save(model.state_dict(), \"./bert.kpl\")"
   ]
  },
  {
   "cell_type": "code",
   "execution_count": 24,
   "id": "124a87f0-1cd5-4fd0-95d8-9b2a48dd716a",
   "metadata": {},
   "outputs": [
    {
     "data": {
      "image/png": "[encoded data removed]",
      "text/plain": [
       "<Figure size 432x288 with 1 Axes>"
      ]
     },
     "metadata": {
      "needs_background": "light"
     },
     "output_type": "display_data"
    }
   ],
   "source": [
    "plt.plot(train_acc, label=\"train_accuracy\")\n",
    "plt.plot(test_acc, label=\"test_accuracy\")\n",
    "plt.axhline(Counter(emotion_train)[2]/len(emotion_train), color='red')\n",
    "plt.title(\"bert for text_only_prediction\")\n",
    "plt.xlabel(\"epoch\")\n",
    "plt.xticks(range(15), range(1, 16))\n",
    "plt.ylabel(\"accuracy\")\n",
    "plt.ylim(ymin=0, ymax=1)\n",
    "plt.legend()\n",
    "plt.savefig('./text_only_prediction_preprocessed.jpg')\n",
    "plt.show()"
   ]
  },
  {
   "cell_type": "markdown",
   "id": "72c5ec2a-fd53-4d33-be20-95f7e05a2f22",
   "metadata": {
    "tags": []
   },
   "source": [
    "### "
   ]
  }
 ],
 "metadata": {
  "kernelspec": {
   "display_name": "Python 3 (ipykernel)",
   "language": "python",
   "name": "python3"
  },
  "language_info": {
   "codemirror_mode": {
    "name": "ipython",
    "version": 3
   },
   "file_extension": ".py",
   "mimetype": "text/x-python",
   "name": "python",
   "nbconvert_exporter": "python",
   "pygments_lexer": "ipython3",
   "version": "3.8.10"
  }
 },
 "nbformat": 4,
 "nbformat_minor": 5
}
